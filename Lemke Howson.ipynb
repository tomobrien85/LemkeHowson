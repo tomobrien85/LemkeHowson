{
 "cells": [
  {
   "cell_type": "markdown",
   "metadata": {},
   "source": [
    "# Lemke Howson Algorithm Final Project\n",
    "EN.605.726/625.741 Game Theory\n",
    "\n",
    "Tom O'Brien and Joe Dimino"
   ]
  },
  {
   "cell_type": "markdown",
   "metadata": {},
   "source": [
    "The focus of this project is a Python 2 implementation of the Lemke Howson Algorithm using the tableaux method.  This project additionally has implemented a preprocessing function using Iterative Elimination of Strictly Dominated Pure Strategies and a function for verification of output Nash Equilibrium strategies through the Characterization of Mixed Strategy Nash Equilibrium Theorem.\n",
    "\n",
    "The project is divided in to five sections below:\n",
    "1. Make a Game\n",
    "2. Preprocessing\n",
    "3. Lemke Howson Algorithm\n",
    "4. Verification of Nash Equilibrium\n",
    "5. Testing"
   ]
  },
  {
   "cell_type": "markdown",
   "metadata": {},
   "source": [
    "## 1. Make a Game:"
   ]
  },
  {
   "cell_type": "code",
   "execution_count": 1,
   "metadata": {
    "collapsed": false
   },
   "outputs": [],
   "source": [
    "import numpy as np\n",
    "def read_game(filename):\n",
    "    A = []\n",
    "    B = []\n",
    "    with open(filename) as textFile:\n",
    "        strategies = [line.split() for line in textFile]\n",
    "        for i in range(len(strategies)):\n",
    "            A.append([])\n",
    "            B.append([])\n",
    "            for j in range(len(strategies[i])):\n",
    "                p= strategies[i][j].strip(\"()\").split(\",\")\n",
    "                x = float(p[0])\n",
    "                y = float(p[1])\n",
    "                A[i].append(x)\n",
    "                B[i].append(y)\n",
    "    return (np.matrix(np.array(A)), np.matrix(np.array(B)))      \n",
    "\n",
    "            \n",
    "    "
   ]
  },
  {
   "cell_type": "code",
   "execution_count": 2,
   "metadata": {
    "collapsed": false
   },
   "outputs": [],
   "source": [
    "def random_normalized_vector(row, column):\n",
    "    v = np.random.rand(row, column)\n",
    "    return (v / sum(v))"
   ]
  },
  {
   "cell_type": "code",
   "execution_count": 3,
   "metadata": {
    "collapsed": true
   },
   "outputs": [],
   "source": [
    "def expected_payoff(player, x, y, A, B):\n",
    "    x = np.matrix(x)\n",
    "    y = np.matrix(y)\n",
    "    if player == 1:\n",
    "        p = A\n",
    "    elif player == 2:\n",
    "        p = B\n",
    "        \n",
    "    return np.array(x*p*y.transpose())[0][0]\n",
    "    \n",
    "    \n",
    "    "
   ]
  },
  {
   "cell_type": "markdown",
   "metadata": {},
   "source": [
    "## 2. Preprocessing"
   ]
  },
  {
   "cell_type": "markdown",
   "metadata": {},
   "source": [
    "### Iterative Elimination of Strictly Dominated Pure Strategies"
   ]
  },
  {
   "cell_type": "code",
   "execution_count": 5,
   "metadata": {
    "collapsed": false
   },
   "outputs": [],
   "source": [
    "def strictly_dominates(player, strat1, strat2, A, B):\n",
    "    A = np.array(A)\n",
    "    B = np.array(B)\n",
    "    dominates = True\n",
    "    (m,n) = np.shape(A)\n",
    "    if player == 1:\n",
    "        for j in range(n):\n",
    "            if A[strat1][j] <= A[strat2][j]:\n",
    "                dominates = False\n",
    "    if player == 2:\n",
    "        for i in range(m):\n",
    "            if B[i][strat1] <= B[i][strat2]:\n",
    "                dominates = False\n",
    "    return dominates\n",
    "            "
   ]
  },
  {
   "cell_type": "code",
   "execution_count": 6,
   "metadata": {
    "collapsed": true
   },
   "outputs": [],
   "source": [
    "def remove_dominated_strategies(player, strategies, A, B):\n",
    "    return (np.delete(A, strategies, axis=((player+1) % 2)), np.delete(B, strategies, axis=((player+1) % 2)))           \n",
    "          "
   ]
  },
  {
   "cell_type": "code",
   "execution_count": 4,
   "metadata": {
    "collapsed": false
   },
   "outputs": [],
   "source": [
    "def eliminate_strictly_dominated_pure_strategies(A,B):\n",
    "    (m0, n0) = np.shape(A)\n",
    "    remaining_p1_strategies = range(m0)\n",
    "    remaining_p2_strategies = range(n0)\n",
    "    cycles_no_strictly_dominated = 0\n",
    "    player = 1\n",
    "    while(cycles_no_strictly_dominated < 2):\n",
    "        #print \"Looking for player \" + str(player) + \" dominated pure strategies\"\n",
    "        (m,n) = np.shape(A) # will change based on removed strategies\n",
    "        strictly_dominated_exist = False # will be changed to true if one strictly dominated strategy is found in nested loop\n",
    "        dominated_strategies = []\n",
    "        for i in range(m):\n",
    "            for k in range(m):\n",
    "                if i != k and strictly_dominates(player, i, k, A, B):\n",
    "                    #print str(i) + \" dominates \" + str(k) + \" for player \" + str(player)\n",
    "                    strictly_dominated_exist = (True)\n",
    "                    cycles_no_strictly_dominated = 0\n",
    "                    if k not in dominated_strategies:\n",
    "                        dominated_strategies.append(k)\n",
    "        dominated_strategies = sorted(dominated_strategies, reverse = True)\n",
    "        #print \"Dominated strategies found: \" + str(dominated_strategies)\n",
    "        for d in dominated_strategies:\n",
    "            if player == 1:\n",
    "                #print \"Removing \" + str(remaining_p1_strategies[d]) + \" for Player 1\"\n",
    "                del remaining_p1_strategies[d]\n",
    "            if player == 2:\n",
    "                #print \"Removing \" + str(remaining_p2_strategies[d]) + \" for Player 2\"\n",
    "                del remaining_p2_strategies[d]\n",
    "        if strictly_dominated_exist == False:\n",
    "            cycles_no_strictly_dominated = cycles_no_strictly_dominated + 1\n",
    "            #print \"No dominated strategies found for \" + str(cycles_no_strictly_dominated) + \" cycles\"\n",
    "        (A,B) = remove_dominated_strategies(player,dominated_strategies, A, B)\n",
    "        player = (player % 2) + 1\n",
    "        #print \"Player changed to \" + str(player)\n",
    "        #print A\n",
    "        #print B\n",
    "        #print remaining_p1_strategies\n",
    "        #print remaining_p2_strategies\n",
    "        #print m0\n",
    "        #print n0\n",
    "    return [(A,B), remaining_p1_strategies, remaining_p2_strategies, m0, n0]\n",
    "                    \n",
    "        \n",
    "    "
   ]
  },
  {
   "cell_type": "markdown",
   "metadata": {},
   "source": [
    "# 3. Lemke Howson Algorithm"
   ]
  },
  {
   "cell_type": "code",
   "execution_count": 31,
   "metadata": {
    "collapsed": true
   },
   "outputs": [],
   "source": [
    "def min_ratio(tableaux, column):\n",
    "    (rows,cols) = np.shape(tableaux)\n",
    "    tableaux = np.array(tableaux)\n",
    "    ratios = []\n",
    "    for i in range(rows):\n",
    "        ratios.append(tableaux[i][column])\n",
    "    val, idx = min((val, idx) for (idx, val) in enumerate(ratios))\n",
    "    return idx\n",
    "\n",
    "    "
   ]
  },
  {
   "cell_type": "code",
   "execution_count": 32,
   "metadata": {
    "collapsed": true
   },
   "outputs": [],
   "source": [
    "def find_next_label(k, r, s):\n",
    "    (m,r_columns) = np.shape(r)\n",
    "    (n,s_columns) = np.shape(s)\n",
    "    tableaux = None\n",
    "    if k < m:\n",
    "        tableaux = s\n",
    "        column = k+1\n",
    "        return min_ratio(tableaux, column) + m\n",
    "    if k >= m:\n",
    "        tableaux = r\n",
    "        column = k-m+1\n",
    "        return min_ratio(tableaux, column)"
   ]
  },
  {
   "cell_type": "code",
   "execution_count": 33,
   "metadata": {
    "collapsed": true
   },
   "outputs": [],
   "source": [
    "def perform_pivot_math(tableaux, row, column):\n",
    "    (rows, cols) = np.shape(tableaux)\n",
    "    tableaux = np.array(tableaux)\n",
    "    tableaux[row][row+rows+1] = tableaux[row][row+rows+1] - 1 #subtract 1 to move coeffient of the s variable to right side\n",
    "    coefficient = tableaux[row][column]*-1\n",
    "    for c in range(cols):\n",
    "        tableaux[row][c] = tableaux[row][c]/coefficient\n",
    "    tableaux[row][column] = 0\n",
    "    sub = tableaux[row]\n",
    "    for my_row in range(rows):\n",
    "        temp = tableaux[my_row]\n",
    "        tableaux[my_row]= temp+sub*tableaux[my_row][column]\n",
    "        tableaux[my_row][column] = 0\n",
    "    return np.matrix(tableaux)"
   ]
  },
  {
   "cell_type": "code",
   "execution_count": 34,
   "metadata": {
    "collapsed": true
   },
   "outputs": [],
   "source": [
    "def pivot(next_label, label, r, s):\n",
    "    (m,r_cols) = np.shape(r)\n",
    "    (n,s_cols) = np.shape(s)\n",
    "    tableaux = None\n",
    "    row = None\n",
    "    column = None\n",
    "    if label >= m:\n",
    "        row = next_label\n",
    "        column = label-m+1\n",
    "        r = perform_pivot_math(r, row, column)\n",
    "    else:\n",
    "        row = next_label -m\n",
    "        column = label + 1\n",
    "        s = perform_pivot_math(s, row, column)\n",
    "    return (r,s)        \n",
    "\n",
    "    "
   ]
  },
  {
   "cell_type": "code",
   "execution_count": 35,
   "metadata": {
    "collapsed": false
   },
   "outputs": [],
   "source": [
    "def extract_nash(label_order, r, s):\n",
    "    (m, r_cols) = np.shape(r)\n",
    "    (n, s_cols) = np.shape(s)\n",
    "    r = np.array(r)\n",
    "    s = np.array(s)\n",
    "    variable = {}\n",
    "    for i in range(len(label_order)):\n",
    "        if i != len(label_order)-1:\n",
    "            variable[label_order[i]] = label_order[i+1]\n",
    "        if i == len(label_order)-1:\n",
    "            variable[label_order[i]] = label_order[0]\n",
    "        \n",
    "    x = np.zeros(m)\n",
    "    y = np.zeros(n)\n",
    "    for i in variable:\n",
    "        if i < m:\n",
    "            xi = s[variable[i]-m][0]\n",
    "            x[i] = xi\n",
    "        else:\n",
    "            yi = r[variable[i]][0]\n",
    "            y[i-m] = yi\n",
    "            \n",
    "    x = x/np.sum(x)\n",
    "    y = y/np.sum(y)\n",
    "    return (x,y)\n"
   ]
  },
  {
   "cell_type": "code",
   "execution_count": 36,
   "metadata": {
    "collapsed": false
   },
   "outputs": [],
   "source": [
    "def lemke_howson(A,B):\n",
    "    #new_game = eliminate_strictly_dominated_pure_strategies(A,B)\n",
    "    #(A,B) = new_game[0]\n",
    "    #remaining_p1_strategies = new_game[1]\n",
    "    #remaining_p2_strategies = new_game[2]\n",
    "    #m0 = new_game[3]\n",
    "    #n0 = new_game[4]\n",
    "    (m,n) = np.shape(A)\n",
    "    #Initialize tableaux r [column of 1's for real number, -Ay, mxm matrix of zeros for coefficients of r1, r2, ... rm]\n",
    "    r = np.hstack([np.matrix(np.ones((m,1),dtype=float)),-A,np.matrix(np.zeros((m,m),dtype=float))])\n",
    "    #Initialize tableaux s [column of 1's for real number, -B'x, nxn matrix of zeros for coefficients of s1, s2, ...sn]\n",
    "    s = np.hstack([np.matrix(np.ones((n,1),dtype=float)),-B.transpose(), np.matrix(np.zeros((n,n),dtype=float))])\n",
    "    labels = []\n",
    "    k0 = np.random.randint(0,m)\n",
    "    print \"\\nK0 = \" + str(k0)\n",
    "    k=k0\n",
    "    iterations = 0\n",
    "    \n",
    "    print \"Initial R tableaux:\"\n",
    "    print r\n",
    "    print \"\\nInitial S tableaux:\"\n",
    "    print s\n",
    "    print \"Entering pivot loop...\"\n",
    "    print \"\\n\\n\"\n",
    "        \n",
    "    while(iterations < 1 or k != k0): #iterations added to allow it to go through initial iteration  \n",
    "        labels.append(k)\n",
    "        iterations = iterations+1\n",
    "        new_k = find_next_label(k, r, s)\n",
    "        (r,s) = pivot(new_k, k, r, s)\n",
    "        k = new_k\n",
    "       \n",
    "        print \"R tableaux:\"\n",
    "        print r\n",
    "        print \"\\nS tableaux:\"\n",
    "        print s\n",
    "        print \"Next label is \" + str(k)\n",
    "        print \"\\n\\n\"\n",
    "    \n",
    "    print labels\n",
    "    print \"Pivot loop exited. Extracting Nash Equilibrium...\"\n",
    "    \n",
    "    \n",
    "    return extract_nash(labels, r, s)\n",
    "    \n",
    "    \n",
    "    \n",
    "    \n",
    "    \n",
    "        \n",
    "    "
   ]
  },
  {
   "cell_type": "markdown",
   "metadata": {},
   "source": [
    "## 4. Verification of Nash Equilibrium"
   ]
  },
  {
   "cell_type": "code",
   "execution_count": 42,
   "metadata": {
    "collapsed": false
   },
   "outputs": [],
   "source": [
    "def find_supports(vector, epsilon):\n",
    "    supports = []\n",
    "    nonsupports = []\n",
    "    vector = list(vector)\n",
    "    for i in range(len(vector)):\n",
    "        if vector[i] > epsilon:\n",
    "            supports.append(i)\n",
    "        else:\n",
    "            nonsupports.append(i)\n",
    "    return (supports, nonsupports)   "
   ]
  },
  {
   "cell_type": "code",
   "execution_count": 39,
   "metadata": {
    "collapsed": true
   },
   "outputs": [],
   "source": [
    "def verify_nash(x,y,A,B,epsilon):\n",
    "    (m,n) = np.shape(A)\n",
    "    (x_supports, x_nonsupports) = find_supports(x,epsilon)\n",
    "    (y_supports, y_nonsupports) = find_supports(y,epsilon)\n",
    "    \n",
    "    E_x = [] #expected payoffs for x supports\n",
    "    E_y = [] #expected payoffs for y supports\n",
    "    E_nx = [] #expected payoffs for x nonsupports\n",
    "    E_ny = [] #expected payoffs for y nonsupports\n",
    "    \n",
    "    for s in x_supports:\n",
    "        xi = np.zeros(m)\n",
    "        xi[s] = 1\n",
    "        E_x.append(expected_payoff(1,xi,y,A,B))\n",
    "    print \"E_x\"\n",
    "    print E_x\n",
    "    \n",
    "    for s in y_supports:\n",
    "        yi = np.zeros(n)\n",
    "        yi[s] = 1\n",
    "        E_y.append(expected_payoff(2,x,yi,A,B))\n",
    "    print \"\\nE_y\"\n",
    "    print E_y\n",
    "    \n",
    "    for non in x_nonsupports:\n",
    "        xi = np.zeros(m)\n",
    "        xi[non] = 1\n",
    "        E_nx.append(expected_payoff(1,xi,y,A,B))\n",
    "    print \"\\nE_nx\"\n",
    "    print E_nx\n",
    "    \n",
    "    for non in y_nonsupports:\n",
    "        yi = np.zeros(n)\n",
    "        yi[non] = 1\n",
    "        E_ny.append(expected_payoff(2,x,yi,A,B))\n",
    "        \n",
    "    print \"\\nE_ny\"\n",
    "    print E_ny            \n",
    "    \n",
    "    if not all(abs(t-E_x[0]) <= epsilon for t in E_x): return False\n",
    "    if not all(abs(t-E_y[0]) <= epsilon for t in E_y): return False\n",
    "    if not all(t < E_x[0] for t in E_nx): return False\n",
    "    if not all(t < E_y[0] for t in E_ny): return False\n",
    "    \n",
    "    return True\n",
    "    \n"
   ]
  },
  {
   "cell_type": "markdown",
   "metadata": {},
   "source": [
    "## 5. Testing"
   ]
  },
  {
   "cell_type": "markdown",
   "metadata": {},
   "source": [
    "### Game Definitions"
   ]
  },
  {
   "cell_type": "code",
   "execution_count": 7,
   "metadata": {
    "collapsed": false
   },
   "outputs": [],
   "source": [
    "Battle_of_the_Sexes = '/home/tom/Desktop/Game Theory Final Project/battle_of_sexes.txt'\n",
    "Tableaux = '/home/tom/Desktop/Game Theory Final Project/Tableaux Example'\n",
    "Dominance_Solvable_Example = '/home/tom/Desktop/Game Theory Final Project/Dominance Solvable'"
   ]
  },
  {
   "cell_type": "code",
   "execution_count": 30,
   "metadata": {
    "collapsed": false
   },
   "outputs": [],
   "source": [
    "BoS = read_game(Battle_of_the_Sexes)\n",
    "Tab = read_game(Tableaux)\n",
    "Dom = read_game(Dominance_Solvable_Example)\n"
   ]
  },
  {
   "cell_type": "code",
   "execution_count": 37,
   "metadata": {
    "collapsed": false
   },
   "outputs": [
    {
     "name": "stdout",
     "output_type": "stream",
     "text": [
      "\n",
      "K0 = 2\n",
      "Initial R tableaux:\n",
      "[[ 1. -1. -3. -0.  0.  0.  0.]\n",
      " [ 1. -0. -0. -2.  0.  0.  0.]\n",
      " [ 1. -2. -1. -1.  0.  0.  0.]]\n",
      "\n",
      "Initial S tableaux:\n",
      "[[ 1. -2. -1. -0.  0.  0.  0.]\n",
      " [ 1. -1. -3. -0.  0.  0.  0.]\n",
      " [ 1. -0. -1. -3.  0.  0.  0.]]\n",
      "Entering pivot loop...\n",
      "\n",
      "\n",
      "\n",
      "R tableaux:\n",
      "[[ 1. -1. -3. -0.  0.  0.  0.]\n",
      " [ 1. -0. -0. -2.  0.  0.  0.]\n",
      " [ 1. -2. -1. -1.  0.  0.  0.]]\n",
      "\n",
      "S tableaux:\n",
      "[[ 1.         -2.         -1.          0.          0.          0.          0.        ]\n",
      " [ 1.         -1.         -3.          0.          0.          0.          0.        ]\n",
      " [ 0.33333333 -0.         -0.33333333  0.          0.          0.\n",
      "  -0.33333333]]\n",
      "Next label is 5\n",
      "\n",
      "\n",
      "\n",
      "R tableaux:\n",
      "[[ 1.  -1.  -3.   0.   0.   0.   0. ]\n",
      " [ 0.5 -0.  -0.   0.   0.  -0.5  0. ]\n",
      " [ 0.5 -2.  -1.   0.   0.   0.5  0. ]]\n",
      "\n",
      "S tableaux:\n",
      "[[ 1.         -2.         -1.          0.          0.          0.          0.        ]\n",
      " [ 1.         -1.         -3.          0.          0.          0.          0.        ]\n",
      " [ 0.33333333 -0.         -0.33333333  0.          0.          0.\n",
      "  -0.33333333]]\n",
      "Next label is 1\n",
      "\n",
      "\n",
      "\n",
      "R tableaux:\n",
      "[[ 1.  -1.  -3.   0.   0.   0.   0. ]\n",
      " [ 0.5 -0.  -0.   0.   0.  -0.5  0. ]\n",
      " [ 0.5 -2.  -1.   0.   0.   0.5  0. ]]\n",
      "\n",
      "S tableaux:\n",
      "[[ 0.66666667 -1.66666667  0.          0.          0.          0.33333333\n",
      "   0.        ]\n",
      " [ 0.33333333 -0.33333333  0.          0.          0.         -0.33333333\n",
      "   0.        ]\n",
      " [ 0.22222222  0.11111111  0.          0.          0.          0.11111111\n",
      "  -0.33333333]]\n",
      "Next label is 4\n",
      "\n",
      "\n",
      "\n",
      "R tableaux:\n",
      "[[ 0.33333333 -0.33333333  0.          0.         -0.33333333  0.          0.        ]\n",
      " [ 0.5         0.          0.          0.          0.         -0.5         0.        ]\n",
      " [ 0.16666667 -1.66666667  0.          0.          0.33333333  0.5         0.        ]]\n",
      "\n",
      "S tableaux:\n",
      "[[ 0.66666667 -1.66666667  0.          0.          0.          0.33333333\n",
      "   0.        ]\n",
      " [ 0.33333333 -0.33333333  0.          0.          0.         -0.33333333\n",
      "   0.        ]\n",
      " [ 0.22222222  0.11111111  0.          0.          0.          0.11111111\n",
      "  -0.33333333]]\n",
      "Next label is 0\n",
      "\n",
      "\n",
      "\n",
      "R tableaux:\n",
      "[[ 0.33333333 -0.33333333  0.          0.         -0.33333333  0.          0.        ]\n",
      " [ 0.5         0.          0.          0.          0.         -0.5         0.        ]\n",
      " [ 0.16666667 -1.66666667  0.          0.          0.33333333  0.5         0.        ]]\n",
      "\n",
      "S tableaux:\n",
      "[[ 0.4         0.          0.          0.         -0.6         0.2         0.        ]\n",
      " [ 0.2         0.          0.          0.          0.2        -0.4         0.        ]\n",
      " [ 0.26666667  0.          0.          0.         -0.06666667  0.13333333\n",
      "  -0.33333333]]\n",
      "Next label is 3\n",
      "\n",
      "\n",
      "\n",
      "R tableaux:\n",
      "[[ 0.3  0.   0.   0.  -0.4 -0.1  0.2]\n",
      " [ 0.5  0.   0.   0.   0.  -0.5  0. ]\n",
      " [ 0.1  0.   0.   0.   0.2  0.3 -0.6]]\n",
      "\n",
      "S tableaux:\n",
      "[[ 0.4         0.          0.          0.         -0.6         0.2         0.        ]\n",
      " [ 0.2         0.          0.          0.          0.2        -0.4         0.        ]\n",
      " [ 0.26666667  0.          0.          0.         -0.06666667  0.13333333\n",
      "  -0.33333333]]\n",
      "Next label is 2\n",
      "\n",
      "\n",
      "\n",
      "[2, 5, 1, 4, 0, 3]\n",
      "Pivot loop exited. Extracting Nash Equilibrium...\n",
      "(array([ 0.46153846,  0.23076923,  0.30769231]), array([ 0.11111111,  0.33333333,  0.55555556]))\n"
     ]
    }
   ],
   "source": [
    "(A,B) = Tab\n",
    "(x,y) = lemke_howson(A,B)\n",
    "print (x,y)"
   ]
  },
  {
   "cell_type": "code",
   "execution_count": 40,
   "metadata": {
    "collapsed": false
   },
   "outputs": [
    {
     "name": "stdout",
     "output_type": "stream",
     "text": [
      "E_x\n",
      "[1.1111111111111112, 1.1111111111111112, 1.1111111111111112]\n",
      "\n",
      "E_y\n",
      "[1.153846153846154, 1.1538461538461537, 1.1538461538461537]\n",
      "\n",
      "E_nx\n",
      "[]\n",
      "\n",
      "E_ny\n",
      "[]\n"
     ]
    },
    {
     "data": {
      "text/plain": [
       "True"
      ]
     },
     "execution_count": 40,
     "metadata": {},
     "output_type": "execute_result"
    }
   ],
   "source": [
    "verify_nash(x,y,A,B,.00001)"
   ]
  },
  {
   "cell_type": "code",
   "execution_count": null,
   "metadata": {
    "collapsed": true
   },
   "outputs": [],
   "source": []
  }
 ],
 "metadata": {
  "kernelspec": {
   "display_name": "Python 2",
   "language": "python",
   "name": "python2"
  },
  "language_info": {
   "codemirror_mode": {
    "name": "ipython",
    "version": 2
   },
   "file_extension": ".py",
   "mimetype": "text/x-python",
   "name": "python",
   "nbconvert_exporter": "python",
   "pygments_lexer": "ipython2",
   "version": "2.7.6"
  }
 },
 "nbformat": 4,
 "nbformat_minor": 1
}
